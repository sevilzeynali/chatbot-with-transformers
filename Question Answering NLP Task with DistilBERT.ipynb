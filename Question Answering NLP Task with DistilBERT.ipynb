{
 "cells": [
  {
   "cell_type": "code",
   "execution_count": 1,
   "id": "cd334b8d",
   "metadata": {},
   "outputs": [
    {
     "name": "stderr",
     "output_type": "stream",
     "text": [
      "No model was supplied, defaulted to distilbert-base-cased-distilled-squad (https://huggingface.co/distilbert-base-cased-distilled-squad)\n"
     ]
    }
   ],
   "source": [
    "from transformers import pipeline\n",
    "question_answer = pipeline('question-answering')"
   ]
  },
  {
   "cell_type": "code",
   "execution_count": 2,
   "id": "187837ef",
   "metadata": {},
   "outputs": [
    {
     "data": {
      "text/plain": [
       "{'score': 0.9961745142936707, 'start': 56, 'end': 60, 'answer': '1965'}"
      ]
     },
     "execution_count": 2,
     "metadata": {},
     "output_type": "execute_result"
    }
   ],
   "source": [
    "context=\"Pink Floyd was an English rock band formed in London in 1965\"\n",
    "result = question_answer(question=\"When was Pink Floyd formed?\", context=context)\n",
    "result"
   ]
  },
  {
   "cell_type": "code",
   "execution_count": 3,
   "id": "7aafed2e",
   "metadata": {},
   "outputs": [
    {
     "name": "stdout",
     "output_type": "stream",
     "text": [
      "{'score': 0.8357855081558228, 'start': 66, 'end': 140, 'answer': 'fever, cough, fatigue, breathing difficulties, and loss of smell and taste'}\n"
     ]
    }
   ],
   "source": [
    "from transformers import AutoTokenizer, AutoModelForQuestionAnswering\n",
    "\n",
    "context_2= \"\"\"Symptoms of COVID-19 are variable, \n",
    "            but often include fever, cough, fatigue, breathing difficulties, and loss of smell and taste. \n",
    "            Symptoms may begin one to fourteen days after exposure to the virus. \n",
    "            At least a third of people who are infected do not develop noticeable symptoms.\n",
    "            [9] Of those people who develop noticeable symptoms enough to be classed as patients, \n",
    "            most (81%) develop mild to moderate symptoms (up to mild pneumonia), \n",
    "            while 14% develop severe symptoms (dyspnea, hypoxia, or more than 50% lung involvement on imaging), \n",
    "            and 5% suffer critical symptoms (respiratory failure, shock, or multiorgan dysfunction).\n",
    "            [10] Older people are more likely to have severe symptoms. \n",
    "            Some people continue to experience a range of effects—known as long COVID—for months after recovery, \n",
    "            and damage to organs has been observed.\n",
    "            [11] Multi-year studies are underway to further investigate the long-term effects of the disease.\"\"\"\n",
    "\n",
    "question_2=\"What are the symptoms of COVID-19 ?\"\n",
    "result_2 = question_answer(question=question_2, context=context_2,model=\"ktrapeznikov/biobert_v1.1_pubmed_squad_v2\",tokenize=\"ktrapeznikov/biobert_v1.1_pubmed_squad_v2\")\n",
    "print(result_2)\n"
   ]
  },
  {
   "cell_type": "code",
   "execution_count": 15,
   "id": "481c6b22",
   "metadata": {},
   "outputs": [
    {
     "name": "stdout",
     "output_type": "stream",
     "text": [
      "good for token\n",
      "good for bot\n",
      "good for function\n",
      "good for polling\n"
     ]
    }
   ],
   "source": [
    "import telebot\n",
    "\n",
    "API_TOKEN = ''\n",
    "bot = telebot.TeleBot(API_TOKEN)\n",
    "@bot.message_handler(func=lambda message: True)\n",
    "def reply_hi(message):\n",
    "    bot.reply_to(message, \"hi\")\n",
    "bot.polling()\n"
   ]
  },
  {
   "cell_type": "code",
   "execution_count": 7,
   "id": "74b0e481",
   "metadata": {},
   "outputs": [
    {
     "name": "stderr",
     "output_type": "stream",
     "text": [
      "No model was supplied, defaulted to distilbert-base-cased-distilled-squad (https://huggingface.co/distilbert-base-cased-distilled-squad)\n"
     ]
    }
   ],
   "source": [
    "import wikipedia\n",
    "import telebot\n",
    "API_TOKEN = ''\n",
    "\n",
    "question_answer = pipeline('question-answering')\n",
    "\n",
    "bot = telebot.TeleBot(API_TOKEN)\n",
    "message_state=0\n",
    "summary=\"\"\n",
    "subject=\"\"\n",
    "\n",
    "\n",
    "@bot.message_handler(func=lambda message: True)\n",
    "def answering_bot(message):\n",
    "    global message_state\n",
    "    global summary\n",
    "    global subject\n",
    "    if message_state==0:\n",
    "        bot.send_message(message.chat.id,\"Hi, tell me a subject you wanted to talk about.\")\n",
    "        message_state=1\n",
    "        return\n",
    "    if message_state==1:\n",
    "        try:\n",
    "            wiki_rep=wikipedia.search(message.text)\n",
    "            summary = wikipedia.summary(wiki_rep[0])\n",
    "            bot.reply_to(message, \"ask me a question about your subject\")\n",
    "            subject=message.text\n",
    "            message_state=2\n",
    "        except wikipedia.exceptions.PageError:\n",
    "            bot.send_message(message.chat.id,\"sorry I can't find any information about your subject. give me another subject if you want\")\n",
    "        except wikipedia.exceptions.DisambiguationError:\n",
    "            bot.send_message(message.chat.id,\"can you precise your need?\")\n",
    "        return\n",
    "    if message_state==2:\n",
    "        result = question_answer(question=message.text, context=summary)\n",
    "        bot.reply_to(message, list(result.values())[3])\n",
    "        bot.send_message(message.chat.id,\"Do you want to ask me another question about this subject?\")\n",
    "        message_state=3\n",
    "        return\n",
    "    if message_state==3:\n",
    "        if message.text in [\"?\"]:\n",
    "            message_state=1\n",
    "        if message.text in [\"Yes\",\"yes\",\"YES\",\"y\",\"Y\"]:\n",
    "            bot.send_message(message.chat.id, \"ask me a question about \"+subject)\n",
    "            message_state=2\n",
    "        elif message.text in [\"No\",\"NO\",\"n\",\"N\"]:\n",
    "            bot.send_message(message.chat.id, \"tell me a subject you wanted to talk about.\")  \n",
    "            message_state=0\n",
    "        else:\n",
    "            bot.reply_to(message, \"I did not understand your response, can you response with yes or no?\")\n",
    "            message_state=3\n",
    "        return\n",
    "\n",
    "bot.polling()"
   ]
  }
 ],
 "metadata": {
  "kernelspec": {
   "display_name": "Python 3 (ipykernel)",
   "language": "python",
   "name": "python3"
  },
  "language_info": {
   "codemirror_mode": {
    "name": "ipython",
    "version": 3
   },
   "file_extension": ".py",
   "mimetype": "text/x-python",
   "name": "python",
   "nbconvert_exporter": "python",
   "pygments_lexer": "ipython3",
   "version": "3.8.12"
  }
 },
 "nbformat": 4,
 "nbformat_minor": 5
}
